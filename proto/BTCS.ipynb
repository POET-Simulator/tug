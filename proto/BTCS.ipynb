{
 "cells": [
  {
   "cell_type": "code",
   "execution_count": 1,
   "metadata": {},
   "outputs": [],
   "source": [
    "# imports\n",
    "import numpy as np\n",
    "import matplotlib.pyplot as plt\n",
    "\n"
   ]
  },
  {
   "cell_type": "code",
   "execution_count": 2,
   "metadata": {},
   "outputs": [],
   "source": [
    "# set up environment\n",
    "dim = 2\n",
    "grid_size = {'x': 20, 'y': 20}\n",
    "domain_size = {'x': 20, 'y': 20}\n",
    "\n",
    "# boundary_condition\n",
    "# constant boundary condition\n",
    "bc_left = 0\n",
    "bc_right = 0\n",
    "bc_top = 0\n",
    "bc_bottom = 0\n",
    "\n",
    "delta_x = domain_size['x'] / grid_size['x']\n",
    "delta_y = domain_size['y'] / grid_size['y'] \n",
    "\n",
    "alpha_x = np.random.random((grid_size['x'],grid_size['y']))\n",
    "alpha_y = np.ones((grid_size['x'],grid_size['y']))\n",
    "\n",
    "time_step = 0.1"
   ]
  },
  {
   "cell_type": "code",
   "execution_count": 3,
   "metadata": {},
   "outputs": [
    {
     "data": {
      "image/png": "[encoded data removed]",
      "text/plain": [
       "<Figure size 432x288 with 1 Axes>"
      ]
     },
     "metadata": {
      "needs_background": "light"
     },
     "output_type": "display_data"
    }
   ],
   "source": [
    "# initialize environment with start values\n",
    "C_t = np.zeros((grid_size['x'],grid_size['y']))\n",
    "C_t[19,0] = 2000\n",
    "C_t[19,19] = 2000\n",
    "\n",
    "\n",
    "plt.imshow(C_t, vmin=0, vmax=2000)\n",
    "plt.show()"
   ]
  },
  {
   "cell_type": "code",
   "execution_count": 4,
   "metadata": {},
   "outputs": [],
   "source": [
    "# calculate mean between two cells\n",
    "def alpha_interblock(alpha1, alpha2, harmonic=True):\n",
    "    if not harmonic:\n",
    "        return 0.5 * (alpha1 + alpha2)\n",
    "    else:\n",
    "        return 2 / ((1/alpha1) + (1/alpha2))"
   ]
  },
  {
   "cell_type": "code",
   "execution_count": 5,
   "metadata": {},
   "outputs": [],
   "source": [
    "def sub(delta_t, delta_x):\n",
    "    return delta_t / (2 * delta_x**2)"
   ]
  },
  {
   "cell_type": "code",
   "execution_count": 15,
   "metadata": {},
   "outputs": [],
   "source": [
    "# CONSTANT\n",
    "\n",
    "# creates the coeffiecient matrix for a given row\n",
    "def create_coeff_matrix(alpha_x, row_index, s_x, transpose=False):\n",
    "    \n",
    "\n",
    "    r = row_index\n",
    "    if (transpose):\n",
    "        alpha_x = alpha_x.transpose()\n",
    "\n",
    "    # this is always a square matrix -> column by column, so \n",
    "    cm = np.zeros((alpha_x.shape[1],alpha_x.shape[1]))\n",
    "\n",
    "    # top left\n",
    "    cm[0,0] = 1 + s_x * (alpha_interblock(alpha_x[r,0], alpha_x[r,1]) + 2 * alpha_x[r,0]) # alpha_x[0,0]\n",
    "    cm[0,1] = -s_x * alpha_interblock(alpha_x[r, 0], alpha_x[r, 1])\n",
    "\n",
    "    # inner cells\n",
    "    for i_cm in range(1, cm.shape[0]-1):\n",
    "        j_alpha = i_cm - 1\n",
    "        cm[i_cm,i_cm-1] = -s_x * alpha_interblock(alpha_x[r, j_alpha-1], alpha_x[r, j_alpha])\n",
    "        cm[i_cm,i_cm] = 1 + s_x * (alpha_interblock(alpha_x[r,j_alpha], alpha_x[r, j_alpha+1]) + alpha_interblock(alpha_x[r, j_alpha], alpha_x[r, j_alpha-1]))\n",
    "        cm[i_cm,i_cm+1] = -s_x * alpha_interblock(alpha_x[r, j_alpha], alpha_x[r, j_alpha+1])\n",
    "\n",
    "\n",
    "    # bottom right\n",
    "    n = cm.shape[0]-1\n",
    "    cm[n,n-1] = s_x * alpha_interblock(alpha_x[r, n-1], alpha_x[r, n])\n",
    "    cm[n,n] = 1 + s_x * (-alpha_interblock(alpha_x[r, n], alpha_x[r, n-1]) + 2 * alpha_x[n,n]) # alpha_x[n,n]?\n",
    "\n",
    "    return cm\n",
    "\n",
    "# creates the solution vector for a given row\n",
    "# s_x, alpha_x, row_index?\n",
    "def create_solution_vector(concentrations, alpha_y, alpha_x, col_index, row_index, s_y, s_x, bc_left, bc_right, transpose=False):\n",
    "\n",
    "    # \n",
    "    sv = np.zeros(alpha_y.shape[1])\n",
    "\n",
    "    # inner\n",
    "    # TODO: iterate over columns of alpha_y alpha_y[i_sv, row_index+ -1 .. 0 .. 1]\n",
    "    # TODO: error with current indices: i_sv starts from 0 --> i_alpha = -1 and i_alpha-1 = -2\n",
    "    for i_sv in range(0, sv.shape[0]):\n",
    "        print(i_sv)\n",
    "        i_alpha = i_sv-1\n",
    "        print(i_alpha)\n",
    "        print(concentrations[i_alpha-1,col_index])\n",
    "        sv[i_sv] = s_y * alpha_interblock(alpha_y[i_alpha+1,col_index],alpha_y[i_alpha,col_index])*concentrations[i_alpha+1,col_index] \\\n",
    "                + (1 - s_y *(alpha_interblock(alpha_y[i_alpha+1,col_index], alpha_y[i_alpha,col_index])) \\\n",
    "                    + alpha_interblock(alpha_y[i_alpha,col_index], alpha_y[i_alpha-1,col_index]))*concentrations[i_alpha,col_index] \\\n",
    "                + s_y * alpha_interblock(alpha_y[i_alpha,col_index], alpha_y[i_alpha-1,col_index])*concentrations[i_alpha-1,col_index]\n",
    "\n",
    "    # first\n",
    "    sv[0] += 2 * s_x * alpha_x[row_index,0] * bc_left # alpha_x[row_index,0]?\n",
    "\n",
    "    # last\n",
    "    n = sv.shape[0]-1\n",
    "    sv[n] += 2 * s_x * alpha_x[row_index,n] * bc_right\n",
    "\n",
    "    return sv\n",
    "\n",
    "\n",
    "def solve_row(A, b):\n",
    "    return np.linalg.solve(A,b)\n",
    "\n",
    "def calc_sweep(concentrations, alpha_x, alpha_y, s_y, s_x, bc_left, bc_right, transpose=False):\n",
    "    for row in range(concentrations.shape[0]):\n",
    "        A = create_coeff_matrix(alpha_x, row, s_x, transpose)\n",
    "        b = create_solution_vector(concentrations, alpha_y, alpha_x, )\n",
    "\n",
    "def calc_round():\n",
    "    calc_sweep()\n",
    "    calc_sweep()\n"
   ]
  },
  {
   "cell_type": "code",
   "execution_count": 17,
   "metadata": {},
   "outputs": [
    {
     "name": "stdout",
     "output_type": "stream",
     "text": [
      "[[0.56726545 0.41188268 0.11335637 0.29221913 0.5365537 ]\n",
      " [0.8120275  0.96249867 0.18743648 0.30176834 0.45374814]\n",
      " [0.17014599 0.26796332 0.4616269  0.23477139 0.71348435]\n",
      " [0.00654629 0.61879048 0.22742861 0.25794781 0.91561469]\n",
      " [0.04155862 0.46501565 0.8463777  0.81575064 0.1985415 ]]\n",
      "Test A:\n",
      "[[ 7.77257437 -1.49738434  0.          0.          0.        ]\n",
      " [-2.78866756  5.2860519  -1.49738434  0.          0.        ]\n",
      " [ 0.         -1.49738434  2.94508723 -0.44770289  0.        ]\n",
      " [ 0.          0.         -0.44770289  1.90753379 -0.4598309 ]\n",
      " [ 0.          0.          0.          1.69958064  4.50889084]]\n",
      "0\n",
      "-1\n",
      "0.618790482597486\n",
      "1\n",
      "0\n",
      "0.4650156531117613\n",
      "2\n",
      "1\n",
      "0.41188268496900426\n",
      "3\n",
      "2\n",
      "0.9624986706480608\n",
      "4\n",
      "3\n",
      "0.26796331918576755\n",
      "\n",
      "TestB:\n",
      "[6.33240747 1.20531698 0.62203484 1.97054078 6.92562211]\n",
      "\n",
      "Result\n",
      "[1.01442248 1.03665212 0.96541206 1.49411867 0.97279954]\n"
     ]
    }
   ],
   "source": [
    "row = 5\n",
    "col = 5\n",
    "\n",
    "testConcentrations = np.random.random((row,col))\n",
    "print(testConcentrations)\n",
    "testAlpha = np.random.random((row,col))\n",
    "testA = create_coeff_matrix(testAlpha, 1, 3)\n",
    "print(\"Test A:\")\n",
    "print(testA)\n",
    "# print(test.shape[0])\n",
    "testb = create_solution_vector(testConcentrations,testAlpha,testAlpha,1,1,3,3,1,1)\n",
    "print(\"\\nTestB:\")\n",
    "print(testb)\n",
    "\n",
    "# needed to solve: TODO calc boundary in functions\n",
    "# testA[0,0] = 1\n",
    "# testA[4,4] = 1\n",
    "# testb[0] = 1\n",
    "# test[4] = 1\n",
    "\n",
    "result = solve_row(testA, testb)\n",
    "print(\"\\nResult\")\n",
    "print(result)"
   ]
  },
  {
   "cell_type": "code",
   "execution_count": 8,
   "metadata": {},
   "outputs": [
    {
     "name": "stdout",
     "output_type": "stream",
     "text": [
      "3\n"
     ]
    }
   ],
   "source": [
    "test2 = np.random.random_sample(3)\n",
    "print(test2.shape[0])"
   ]
  },
  {
   "cell_type": "code",
   "execution_count": null,
   "metadata": {},
   "outputs": [],
   "source": []
  }
 ],
 "metadata": {
  "kernelspec": {
   "display_name": "forschungsprojekt",
   "language": "python",
   "name": "python3"
  },
  "language_info": {
   "codemirror_mode": {
    "name": "ipython",
    "version": 3
   },
   "file_extension": ".py",
   "mimetype": "text/x-python",
   "name": "python",
   "nbconvert_exporter": "python",
   "pygments_lexer": "ipython3",
   "version": "3.9.7"
  },
  "orig_nbformat": 4
 },
 "nbformat": 4,
 "nbformat_minor": 2
}
